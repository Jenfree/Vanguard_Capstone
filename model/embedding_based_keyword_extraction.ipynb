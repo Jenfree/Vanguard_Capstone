{
 "cells": [
  {
   "cell_type": "code",
   "execution_count": 110,
   "metadata": {
    "scrolled": true
   },
   "outputs": [],
   "source": [
    "import os, datetime\n",
    "import torch\n",
    "import pandas as pd\n",
    "import numpy as np\n",
    "import gensim, re, os \n",
    "import string\n",
    "import subprocess\n",
    "import multiprocessing\n",
    "import pickle as pk\n",
    "import time, sys\n",
    "from nltk.corpus import stopwords\n",
    "from nltk.stem import WordNetLemmatizer \n",
    "from gensim import corpora\n",
    "from gensim.models import Word2Vec\n",
    "from numpy.linalg import norm\n",
    "from gensim.models import ldamulticore\n",
    "\n",
    "np.random.seed(42)\n",
    "lemma = WordNetLemmatizer()\n",
    "exclude = set(string.punctuation)\n",
    "exclude.update(set(string.digits))\n",
    "include = set(string.printable)\n",
    "stop = set(stopwords.words('english'))\n",
    "os.environ[\"CUDA_VISIBLE_DEVICES\"] = \"0\"\n",
    "origin = ['hong kong', 'north korea', 'new york', 'south korea', 'united state', 'united kingdom', ' corp ',\n",
    "          ' cant ', 'white house', 'united nation']\n",
    "joined = ['hong-kong', 'north-korea', 'new-york', 'south-korea', 'united-state', 'united-kingdom', ' corporation ',\n",
    "          ' cannot ', 'white-house', 'united-nation']"
   ]
  },
  {
   "cell_type": "code",
   "execution_count": 18,
   "metadata": {},
   "outputs": [],
   "source": [
    "def clean(doc):\n",
    "    #print(len(doc))\n",
    "    #sys.stdout.flush()\n",
    "    doc = doc.lower()\n",
    "    doc = re.sub(r'\\s+', ' ', doc)\n",
    "    punc_free = ''.join(ch for ch in doc if ch in include)\n",
    "    punc_free = ''.join(ch for ch in punc_free if ch not in exclude)\n",
    "    for o, j in zip(origin, joined):\n",
    "        punc_free = punc_free.replace(o, j)\n",
    "    stop_free = ' '.join([i for i in punc_free.split() if i not in stop])\n",
    "    normalized = ' '.join(lemma.lemmatize(word) for word in stop_free.split())\n",
    "    #normalized = ' '.join(lemma.lemmatize(word, 'v') for word in normalized.split())\n",
    "    stop_free = ' '.join([i for i in normalized.split() if i not in stop])\n",
    "    return stop_free.split()"
   ]
  },
  {
   "cell_type": "code",
   "execution_count": 11,
   "metadata": {},
   "outputs": [],
   "source": [
    "df = pd.read_csv('./data/news_guardian.csv')"
   ]
  },
  {
   "cell_type": "code",
   "execution_count": 149,
   "metadata": {},
   "outputs": [
    {
     "data": {
      "text/plain": [
       "132542"
      ]
     },
     "execution_count": 149,
     "metadata": {},
     "output_type": "execute_result"
    }
   ],
   "source": [
    "len(df)"
   ]
  },
  {
   "cell_type": "code",
   "execution_count": 21,
   "metadata": {},
   "outputs": [
    {
     "name": "stdout",
     "output_type": "stream",
     "text": [
      "DICTIONARY 4662\n"
     ]
    },
    {
     "ename": "NameError",
     "evalue": "name 'target_path' is not defined",
     "output_type": "error",
     "traceback": [
      "\u001b[0;31m---------------------------------------------------------------------------\u001b[0m",
      "\u001b[0;31mNameError\u001b[0m                                 Traceback (most recent call last)",
      "\u001b[0;32m<ipython-input-21-ea00f1dcf588>\u001b[0m in \u001b[0;36m<module>\u001b[0;34m\u001b[0m\n\u001b[1;32m      7\u001b[0m \u001b[0mdictionary\u001b[0m\u001b[0;34m.\u001b[0m\u001b[0mfilter_extremes\u001b[0m\u001b[0;34m(\u001b[0m\u001b[0mno_below\u001b[0m\u001b[0;34m=\u001b[0m\u001b[0mint\u001b[0m\u001b[0;34m(\u001b[0m\u001b[0mlen\u001b[0m\u001b[0;34m(\u001b[0m\u001b[0mcleaned\u001b[0m\u001b[0;34m)\u001b[0m\u001b[0;34m*\u001b[0m\u001b[0;36m0.01\u001b[0m\u001b[0;34m)\u001b[0m\u001b[0;34m,\u001b[0m \u001b[0mno_above\u001b[0m\u001b[0;34m=\u001b[0m\u001b[0;36m0.8\u001b[0m\u001b[0;34m)\u001b[0m\u001b[0;34m\u001b[0m\u001b[0;34m\u001b[0m\u001b[0m\n\u001b[1;32m      8\u001b[0m \u001b[0mprint\u001b[0m\u001b[0;34m(\u001b[0m\u001b[0;34m\"DICTIONARY\"\u001b[0m\u001b[0;34m,\u001b[0m \u001b[0mlen\u001b[0m\u001b[0;34m(\u001b[0m\u001b[0mdictionary\u001b[0m\u001b[0;34m)\u001b[0m\u001b[0;34m)\u001b[0m\u001b[0;34m\u001b[0m\u001b[0;34m\u001b[0m\u001b[0m\n\u001b[0;32m----> 9\u001b[0;31m \u001b[0;32mwith\u001b[0m \u001b[0mopen\u001b[0m\u001b[0;34m(\u001b[0m\u001b[0;34m\"./savepoints/dictionary.pickle\"\u001b[0m \u001b[0;34m%\u001b[0m \u001b[0;34m(\u001b[0m\u001b[0mtarget_path\u001b[0m\u001b[0;34m)\u001b[0m\u001b[0;34m,\u001b[0m \u001b[0;34m\"wb\"\u001b[0m\u001b[0;34m)\u001b[0m \u001b[0;32mas\u001b[0m \u001b[0moutput_file\u001b[0m\u001b[0;34m:\u001b[0m\u001b[0;34m\u001b[0m\u001b[0;34m\u001b[0m\u001b[0m\n\u001b[0m\u001b[1;32m     10\u001b[0m     \u001b[0mpk\u001b[0m\u001b[0;34m.\u001b[0m\u001b[0mdump\u001b[0m\u001b[0;34m(\u001b[0m\u001b[0mdictionary\u001b[0m\u001b[0;34m,\u001b[0m \u001b[0moutput_file\u001b[0m\u001b[0;34m)\u001b[0m\u001b[0;34m\u001b[0m\u001b[0;34m\u001b[0m\u001b[0m\n\u001b[1;32m     11\u001b[0m \u001b[0mprint\u001b[0m\u001b[0;34m(\u001b[0m\u001b[0;34m'Loading Complete'\u001b[0m\u001b[0;34m)\u001b[0m\u001b[0;34m\u001b[0m\u001b[0;34m\u001b[0m\u001b[0m\n",
      "\u001b[0;31mNameError\u001b[0m: name 'target_path' is not defined"
     ]
    }
   ],
   "source": [
    "doc = df['content'].tolist()\n",
    "doc = [str(x).replace('\\n', ' ') for x in doc]\n",
    "len_lst = [len(x) for x in doc]\n",
    "with multiprocessing.Pool(multiprocessing.cpu_count()) as pool:\n",
    "    cleaned = pool.map(clean, [x for x in doc])\n",
    "dictionary = corpora.Dictionary(cleaned)\n",
    "dictionary.filter_extremes(no_below=int(len(cleaned)*0.01), no_above=0.8)\n",
    "print(\"DICTIONARY\", len(dictionary))\n",
    "with open(\"./savepoints/dictionary.pickle\" , \"wb\") as output_file:\n",
    "    pk.dump(dictionary, output_file)\n",
    "print('Loading Complete')"
   ]
  },
  {
   "cell_type": "code",
   "execution_count": 22,
   "metadata": {},
   "outputs": [
    {
     "name": "stdout",
     "output_type": "stream",
     "text": [
      "Loading Complete\n"
     ]
    }
   ],
   "source": [
    "with open(\"./savepoints/dictionary.pickle\" , \"wb\") as output_file:\n",
    "    pk.dump(dictionary, output_file)\n",
    "print('Loading Complete')"
   ]
  },
  {
   "cell_type": "code",
   "execution_count": 47,
   "metadata": {},
   "outputs": [],
   "source": [
    "skip_model = gensim.models.Word2Vec(cleaned, min_count = 1, size = 128, window = 5, sg = 1, workers = 4)"
   ]
  },
  {
   "cell_type": "code",
   "execution_count": 69,
   "metadata": {},
   "outputs": [],
   "source": [
    "with open('./savepoints/w2.pk', 'wb') as file:\n",
    "    pk.dump(skip_model, file)"
   ]
  },
  {
   "cell_type": "code",
   "execution_count": 55,
   "metadata": {},
   "outputs": [
    {
     "data": {
      "text/plain": [
       "4662"
      ]
     },
     "execution_count": 55,
     "metadata": {},
     "output_type": "execute_result"
    }
   ],
   "source": [
    "len(dictionary.token2id)"
   ]
  },
  {
   "cell_type": "code",
   "execution_count": 88,
   "metadata": {},
   "outputs": [],
   "source": [
    "def get_top(dictionary, keyword, model, topk = 10):\n",
    "    top10_lst = [''] * 10\n",
    "    top_value = [10000] * 10\n",
    "    for term in dictionary.token2id:\n",
    "        diff = norm(model.wv[keyword] - model.wv[term])\n",
    "        for idx, value in enumerate(top_value[0:(topk + 1)]):\n",
    "            if value > diff:\n",
    "                top_value.insert(idx, diff)\n",
    "                top10_lst.insert(idx, term)\n",
    "                break\n",
    "    return top10_lst[0:topk], top_value[0:topk]"
   ]
  },
  {
   "cell_type": "code",
   "execution_count": 57,
   "metadata": {},
   "outputs": [
    {
     "data": {
      "text/plain": [
       "5.7209263"
      ]
     },
     "execution_count": 57,
     "metadata": {},
     "output_type": "execute_result"
    }
   ],
   "source": [
    "norm(skip_model.wv['tariff'])"
   ]
  },
  {
   "cell_type": "code",
   "execution_count": 127,
   "metadata": {},
   "outputs": [],
   "source": [
    "word_lst, val_lst = get_top(dictionary, 'tariff', skip_model, 200)\n",
    "print(word_lst)"
   ]
  },
  {
   "cell_type": "code",
   "execution_count": 148,
   "metadata": {},
   "outputs": [
    {
     "name": "stdout",
     "output_type": "stream",
     "text": [
      "['economy', 'economic', 'growth', 'manufacturing', 'sector', 'gdp', 'recession', 'market', 'country', 'financial', 'global', 'britain', 'investment', 'industry', 'business', 'finance', 'outlook', 'uncertainty', 'export', 'infrastructure']\n"
     ]
    }
   ],
   "source": [
    "word_lst, val_lst = get_top(dictionary, 'economy', skip_model, 20)\n",
    "print(word_lst)"
   ]
  },
  {
   "cell_type": "markdown",
   "metadata": {},
   "source": [
    "### LDA Topic Modelling"
   ]
  },
  {
   "cell_type": "code",
   "execution_count": 78,
   "metadata": {},
   "outputs": [],
   "source": [
    "doc_term_matrix = [dictionary.doc2bow(x) for x in cleaned]"
   ]
  },
  {
   "cell_type": "code",
   "execution_count": 136,
   "metadata": {},
   "outputs": [],
   "source": [
    "num_topics = 10\n",
    "prior_eta_mat = np.ones((num_topics, len(dictionary))) / len(dictionary)\n",
    "one_idx = [dictionary.token2id[x] for x in word_lst]\n",
    "prior_eta_mat[0,:] = prior_eta_mat[0,:] - 1/len(dictionary)\n",
    "for ctr, word in enumerate(word_lst):\n",
    "    prior_eta_mat[0, dictionary.token2id[word]] = len(word_lst) - ctr\n",
    "#prior_eta_mat[0,one_idx] = "
   ]
  },
  {
   "cell_type": "code",
   "execution_count": 102,
   "metadata": {},
   "outputs": [
    {
     "data": {
      "text/plain": [
       "'tariff'"
      ]
     },
     "execution_count": 102,
     "metadata": {},
     "output_type": "execute_result"
    }
   ],
   "source": [
    "dictionary.id2token[3734]"
   ]
  },
  {
   "cell_type": "code",
   "execution_count": null,
   "metadata": {},
   "outputs": [
    {
     "name": "stdout",
     "output_type": "stream",
     "text": [
      "Training Start 2019-10-16 01:47:59.125181\n"
     ]
    }
   ],
   "source": [
    "print(\"Training Start\", datetime.datetime.now())\n",
    "ldamodel = ldamulticore.LdaMulticore(doc_term_matrix, id2word=dictionary, workers = 20, num_topics=30, \n",
    "                                    eta = prior_eta_mat[0,:], passes=100)\n",
    "print(\"Training End\", datetime.datetime.now())"
   ]
  },
  {
   "cell_type": "code",
   "execution_count": 139,
   "metadata": {},
   "outputs": [
    {
     "data": {
      "text/plain": [
       "[(24,\n",
       "  '0.022*\"johnson\" + 0.022*\"brexit\" + 0.019*\"mp\" + 0.017*\"minister\" + 0.015*\"would\" + 0.015*\"labour\" + 0.014*\"may\" + 0.014*\"said\" + 0.012*\"prime\" + 0.011*\"parliament\"'),\n",
       " (4,\n",
       "  '0.020*\"say\" + 0.015*\"like\" + 0.012*\"people\" + 0.011*\"one\" + 0.011*\"get\" + 0.010*\"dont\" + 0.010*\"time\" + 0.010*\"think\" + 0.009*\"thing\" + 0.009*\"would\"'),\n",
       " (12,\n",
       "  '0.014*\"fashion\" + 0.010*\"brand\" + 0.008*\"twitter\" + 0.008*\"new\" + 0.007*\"make\" + 0.007*\"pinterest\" + 0.007*\"look\" + 0.007*\"one\" + 0.007*\"also\" + 0.007*\"store\"'),\n",
       " (28,\n",
       "  '0.152*\"animal\" + 0.133*\"dog\" + 0.080*\"cat\" + 0.068*\"stone\" + 0.044*\"pet\" + 0.019*\"owner\" + 0.017*\"crystal\" + 0.013*\"human\" + 0.006*\"farmer\" + 0.006*\"good\"'),\n",
       " (5,\n",
       "  '0.018*\"school\" + 0.015*\"people\" + 0.015*\"health\" + 0.014*\"child\" + 0.012*\"university\" + 0.010*\"student\" + 0.010*\"year\" + 0.009*\"said\" + 0.007*\"care\" + 0.007*\"service\"'),\n",
       " (11,\n",
       "  '0.039*\"letter\" + 0.033*\"guardian\" + 0.017*\"email\" + 0.016*\"reader\" + 0.015*\"click\" + 0.012*\"share\" + 0.011*\"like\" + 0.011*\"well\" + 0.011*\"london\" + 0.011*\"best\"'),\n",
       " (9,\n",
       "  '0.173*\"stephen\" + 0.085*\"robinson\" + 0.038*\"steel\" + 0.016*\"supplier\" + 0.011*\"contempt\" + 0.010*\"inflation\" + 0.009*\"policy\" + 0.008*\"good\" + 0.007*\"tariff\" + 0.007*\"uk\"'),\n",
       " (21,\n",
       "  '0.052*\"trump\" + 0.020*\"president\" + 0.017*\"u\" + 0.015*\"said\" + 0.012*\"american\" + 0.009*\"donald\" + 0.008*\"state\" + 0.008*\"republican\" + 0.007*\"democrat\" + 0.007*\"america\"'),\n",
       " (22,\n",
       "  '0.021*\"art\" + 0.017*\"work\" + 0.016*\"london\" + 0.015*\"photograph\" + 0.013*\"artist\" + 0.012*\"pinterest\" + 0.012*\"twitter\" + 0.012*\"facebook\" + 0.009*\"museum\" + 0.009*\"year\"'),\n",
       " (29,\n",
       "  '0.024*\"climate\" + 0.013*\"said\" + 0.012*\"change\" + 0.010*\"year\" + 0.009*\"energy\" + 0.008*\"water\" + 0.008*\"world\" + 0.008*\"emission\" + 0.007*\"global\" + 0.007*\"new\"'),\n",
       " (26,\n",
       "  '0.019*\"protest\" + 0.019*\"people\" + 0.015*\"said\" + 0.011*\"police\" + 0.010*\"group\" + 0.010*\"protester\" + 0.009*\"government\" + 0.008*\"activist\" + 0.008*\"city\" + 0.008*\"hong-kong\"'),\n",
       " (18,\n",
       "  '0.013*\"book\" + 0.011*\"one\" + 0.008*\"life\" + 0.007*\"story\" + 0.007*\"world\" + 0.006*\"time\" + 0.006*\"even\" + 0.006*\"read\" + 0.005*\"like\" + 0.005*\"way\"'),\n",
       " (7,\n",
       "  '0.020*\"people\" + 0.018*\"home\" + 0.017*\"said\" + 0.017*\"family\" + 0.013*\"child\" + 0.012*\"country\" + 0.011*\"refugee\" + 0.010*\"right\" + 0.009*\"government\" + 0.009*\"migrant\"'),\n",
       " (20,\n",
       "  '0.071*\"woman\" + 0.017*\"men\" + 0.014*\"black\" + 0.013*\"people\" + 0.012*\"white\" + 0.011*\"female\" + 0.010*\"sexual\" + 0.010*\"sex\" + 0.009*\"right\" + 0.008*\"girl\"'),\n",
       " (15,\n",
       "  '0.037*\"party\" + 0.020*\"election\" + 0.014*\"political\" + 0.013*\"vote\" + 0.011*\"voter\" + 0.010*\"people\" + 0.009*\"campaign\" + 0.008*\"candidate\" + 0.008*\"leader\" + 0.008*\"politics\"'),\n",
       " (19,\n",
       "  '0.029*\"food\" + 0.011*\"wine\" + 0.010*\"restaurant\" + 0.009*\"g\" + 0.009*\"make\" + 0.009*\"egg\" + 0.008*\"eat\" + 0.008*\"water\" + 0.007*\"minute\" + 0.007*\"drink\"'),\n",
       " (17,\n",
       "  '0.151*\"china\" + 0.085*\"chinese\" + 0.078*\"trade\" + 0.049*\"u\" + 0.041*\"economy\" + 0.033*\"tariff\" + 0.023*\"economic\" + 0.021*\"world\" + 0.021*\"market\" + 0.016*\"good\"'),\n",
       " (16,\n",
       "  '0.018*\"year\" + 0.016*\"said\" + 0.015*\"company\" + 0.013*\"business\" + 0.009*\"bn\" + 0.008*\"bank\" + 0.008*\"month\" + 0.007*\"would\" + 0.007*\"pay\" + 0.007*\"tax\"'),\n",
       " (23,\n",
       "  '0.081*\"world\" + 0.080*\"rugby\" + 0.069*\"jones\" + 0.061*\"japan\" + 0.059*\"zealand\" + 0.055*\"south\" + 0.050*\"wale\" + 0.050*\"africa\" + 0.047*\"new\" + 0.037*\"nation\"'),\n",
       " (10,\n",
       "  '0.016*\"city\" + 0.012*\"facebook\" + 0.011*\"pinterest\" + 0.011*\"twitter\" + 0.011*\"photograph\" + 0.010*\"local\" + 0.008*\"town\" + 0.008*\"one\" + 0.007*\"home\" + 0.007*\"area\"')]"
      ]
     },
     "execution_count": 139,
     "metadata": {},
     "output_type": "execute_result"
    }
   ],
   "source": [
    "ldamodel.print_topics()"
   ]
  }
 ],
 "metadata": {
  "kernelspec": {
   "display_name": "Python 3",
   "language": "python",
   "name": "python3"
  },
  "language_info": {
   "codemirror_mode": {
    "name": "ipython",
    "version": 3
   },
   "file_extension": ".py",
   "mimetype": "text/x-python",
   "name": "python",
   "nbconvert_exporter": "python",
   "pygments_lexer": "ipython3",
   "version": "3.7.3"
  }
 },
 "nbformat": 4,
 "nbformat_minor": 2
}
