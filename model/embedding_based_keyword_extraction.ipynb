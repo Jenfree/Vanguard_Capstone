{
 "cells": [
  {
   "cell_type": "code",
   "execution_count": 56,
   "metadata": {
    "scrolled": true
   },
   "outputs": [],
   "source": [
    "import os\n",
    "import torch\n",
    "from transformers import *\n",
    "import pandas as pd\n",
    "import numpy as np\n",
    "import gensim, re, os \n",
    "import string\n",
    "import subprocess\n",
    "import multiprocessing\n",
    "import pickle as pk\n",
    "import time, sys\n",
    "from nltk.corpus import stopwords\n",
    "from nltk.stem import WordNetLemmatizer \n",
    "import gensim \n",
    "from gensim import corpora\n",
    "from gensim.models import Word2Vec\n",
    "from numpy.linalg import norm\n",
    "\n",
    "np.random.seed(42)\n",
    "lemma = WordNetLemmatizer()\n",
    "exclude = set(string.punctuation)\n",
    "exclude.update(set(string.digits))\n",
    "include = set(string.printable)\n",
    "stop = set(stopwords.words('english'))\n",
    "os.environ[\"CUDA_VISIBLE_DEVICES\"] = \"0\"\n",
    "origin = ['hong kong', 'north korea', 'new york', 'south korea', 'united state', 'united kingdom', ' corp ',\n",
    "          ' cant ', 'white house', 'united nation']\n",
    "joined = ['hong-kong', 'north-korea', 'new-york', 'south-korea', 'united-state', 'united-kingdom', ' corporation ',\n",
    "          ' cannot ', 'white-house', 'united-nation']"
   ]
  },
  {
   "cell_type": "code",
   "execution_count": 18,
   "metadata": {},
   "outputs": [],
   "source": [
    "def clean(doc):\n",
    "    #print(len(doc))\n",
    "    #sys.stdout.flush()\n",
    "    doc = doc.lower()\n",
    "    doc = re.sub(r'\\s+', ' ', doc)\n",
    "    punc_free = ''.join(ch for ch in doc if ch in include)\n",
    "    punc_free = ''.join(ch for ch in punc_free if ch not in exclude)\n",
    "    for o, j in zip(origin, joined):\n",
    "        punc_free = punc_free.replace(o, j)\n",
    "    stop_free = ' '.join([i for i in punc_free.split() if i not in stop])\n",
    "    normalized = ' '.join(lemma.lemmatize(word) for word in stop_free.split())\n",
    "    #normalized = ' '.join(lemma.lemmatize(word, 'v') for word in normalized.split())\n",
    "    stop_free = ' '.join([i for i in normalized.split() if i not in stop])\n",
    "    return stop_free.split()"
   ]
  },
  {
   "cell_type": "code",
   "execution_count": 11,
   "metadata": {},
   "outputs": [],
   "source": [
    "df = pd.read_csv('./data/news_guardian.csv')"
   ]
  },
  {
   "cell_type": "code",
   "execution_count": 21,
   "metadata": {},
   "outputs": [
    {
     "name": "stdout",
     "output_type": "stream",
     "text": [
      "DICTIONARY 4662\n"
     ]
    },
    {
     "ename": "NameError",
     "evalue": "name 'target_path' is not defined",
     "output_type": "error",
     "traceback": [
      "\u001b[0;31m---------------------------------------------------------------------------\u001b[0m",
      "\u001b[0;31mNameError\u001b[0m                                 Traceback (most recent call last)",
      "\u001b[0;32m<ipython-input-21-ea00f1dcf588>\u001b[0m in \u001b[0;36m<module>\u001b[0;34m\u001b[0m\n\u001b[1;32m      7\u001b[0m \u001b[0mdictionary\u001b[0m\u001b[0;34m.\u001b[0m\u001b[0mfilter_extremes\u001b[0m\u001b[0;34m(\u001b[0m\u001b[0mno_below\u001b[0m\u001b[0;34m=\u001b[0m\u001b[0mint\u001b[0m\u001b[0;34m(\u001b[0m\u001b[0mlen\u001b[0m\u001b[0;34m(\u001b[0m\u001b[0mcleaned\u001b[0m\u001b[0;34m)\u001b[0m\u001b[0;34m*\u001b[0m\u001b[0;36m0.01\u001b[0m\u001b[0;34m)\u001b[0m\u001b[0;34m,\u001b[0m \u001b[0mno_above\u001b[0m\u001b[0;34m=\u001b[0m\u001b[0;36m0.8\u001b[0m\u001b[0;34m)\u001b[0m\u001b[0;34m\u001b[0m\u001b[0;34m\u001b[0m\u001b[0m\n\u001b[1;32m      8\u001b[0m \u001b[0mprint\u001b[0m\u001b[0;34m(\u001b[0m\u001b[0;34m\"DICTIONARY\"\u001b[0m\u001b[0;34m,\u001b[0m \u001b[0mlen\u001b[0m\u001b[0;34m(\u001b[0m\u001b[0mdictionary\u001b[0m\u001b[0;34m)\u001b[0m\u001b[0;34m)\u001b[0m\u001b[0;34m\u001b[0m\u001b[0;34m\u001b[0m\u001b[0m\n\u001b[0;32m----> 9\u001b[0;31m \u001b[0;32mwith\u001b[0m \u001b[0mopen\u001b[0m\u001b[0;34m(\u001b[0m\u001b[0;34m\"./savepoints/dictionary.pickle\"\u001b[0m \u001b[0;34m%\u001b[0m \u001b[0;34m(\u001b[0m\u001b[0mtarget_path\u001b[0m\u001b[0;34m)\u001b[0m\u001b[0;34m,\u001b[0m \u001b[0;34m\"wb\"\u001b[0m\u001b[0;34m)\u001b[0m \u001b[0;32mas\u001b[0m \u001b[0moutput_file\u001b[0m\u001b[0;34m:\u001b[0m\u001b[0;34m\u001b[0m\u001b[0;34m\u001b[0m\u001b[0m\n\u001b[0m\u001b[1;32m     10\u001b[0m     \u001b[0mpk\u001b[0m\u001b[0;34m.\u001b[0m\u001b[0mdump\u001b[0m\u001b[0;34m(\u001b[0m\u001b[0mdictionary\u001b[0m\u001b[0;34m,\u001b[0m \u001b[0moutput_file\u001b[0m\u001b[0;34m)\u001b[0m\u001b[0;34m\u001b[0m\u001b[0;34m\u001b[0m\u001b[0m\n\u001b[1;32m     11\u001b[0m \u001b[0mprint\u001b[0m\u001b[0;34m(\u001b[0m\u001b[0;34m'Loading Complete'\u001b[0m\u001b[0;34m)\u001b[0m\u001b[0;34m\u001b[0m\u001b[0;34m\u001b[0m\u001b[0m\n",
      "\u001b[0;31mNameError\u001b[0m: name 'target_path' is not defined"
     ]
    }
   ],
   "source": [
    "doc = df['content'].tolist()\n",
    "doc = [str(x).replace('\\n', ' ') for x in doc]\n",
    "len_lst = [len(x) for x in doc]\n",
    "with multiprocessing.Pool(multiprocessing.cpu_count()) as pool:\n",
    "    cleaned = pool.map(clean, [x for x in doc])\n",
    "dictionary = corpora.Dictionary(cleaned)\n",
    "dictionary.filter_extremes(no_below=int(len(cleaned)*0.01), no_above=0.8)\n",
    "print(\"DICTIONARY\", len(dictionary))\n",
    "with open(\"./savepoints/dictionary.pickle\" , \"wb\") as output_file:\n",
    "    pk.dump(dictionary, output_file)\n",
    "print('Loading Complete')"
   ]
  },
  {
   "cell_type": "code",
   "execution_count": 22,
   "metadata": {},
   "outputs": [
    {
     "name": "stdout",
     "output_type": "stream",
     "text": [
      "Loading Complete\n"
     ]
    }
   ],
   "source": [
    "with open(\"./savepoints/dictionary.pickle\" , \"wb\") as output_file:\n",
    "    pk.dump(dictionary, output_file)\n",
    "print('Loading Complete')"
   ]
  },
  {
   "cell_type": "code",
   "execution_count": 47,
   "metadata": {},
   "outputs": [],
   "source": [
    "skip_model = gensim.models.Word2Vec(cleaned, min_count = 1, size = 128, window = 5, sg = 1, workers = 4)"
   ]
  },
  {
   "cell_type": "code",
   "execution_count": 69,
   "metadata": {},
   "outputs": [],
   "source": [
    "with open('./savepoints/w2.pk', 'wb') as file:\n",
    "    pk.dump(skip_model, file)"
   ]
  },
  {
   "cell_type": "code",
   "execution_count": 55,
   "metadata": {},
   "outputs": [
    {
     "data": {
      "text/plain": [
       "4662"
      ]
     },
     "execution_count": 55,
     "metadata": {},
     "output_type": "execute_result"
    }
   ],
   "source": [
    "len(dictionary.token2id)"
   ]
  },
  {
   "cell_type": "code",
   "execution_count": 66,
   "metadata": {},
   "outputs": [],
   "source": [
    "def get_top(dictionary, keyword, model, topk = 10):\n",
    "    top10_lst = [''] * 10\n",
    "    top_value = [10000] * 10\n",
    "    for term in dictionary.token2id:\n",
    "        diff = norm(model.wv[keyword] - model.wv[term])\n",
    "        for idx, value in enumerate(top_value[0:(topk + 1)]):\n",
    "            if value > diff:\n",
    "                top_value.insert(idx, diff)\n",
    "                top10_lst.insert(idx, term)\n",
    "                break\n",
    "    return top10_lst[1:(topk+1)], top_value[1:(topk+1)]"
   ]
  },
  {
   "cell_type": "code",
   "execution_count": 57,
   "metadata": {},
   "outputs": [
    {
     "data": {
      "text/plain": [
       "5.7209263"
      ]
     },
     "execution_count": 57,
     "metadata": {},
     "output_type": "execute_result"
    }
   ],
   "source": [
    "norm(skip_model.wv['tariff'])"
   ]
  },
  {
   "cell_type": "code",
   "execution_count": 72,
   "metadata": {},
   "outputs": [],
   "source": [
    "word_lst, val_lst = get_top(dictionary, 'tariff', skip_model, 40)"
   ]
  },
  {
   "cell_type": "code",
   "execution_count": 73,
   "metadata": {},
   "outputs": [
    {
     "data": {
      "text/plain": [
       "['import',\n",
       " 'trade',\n",
       " 'export',\n",
       " 'imposed',\n",
       " 'impose',\n",
       " 'zero',\n",
       " 'postbrexit',\n",
       " 'negotiated',\n",
       " 'good',\n",
       " 'price',\n",
       " 'eu',\n",
       " 'regulatory',\n",
       " 'china',\n",
       " 'agreement',\n",
       " 'sanction',\n",
       " 'economy',\n",
       " 'cost',\n",
       " 'agricultural',\n",
       " 'uncertainty',\n",
       " 'apply',\n",
       " 'supplier',\n",
       " 'market',\n",
       " 'trading',\n",
       " 'inflation',\n",
       " 'bloc',\n",
       " 'negotiate',\n",
       " 'rule',\n",
       " 'coming',\n",
       " 'uk',\n",
       " 'product',\n",
       " 'deal',\n",
       " 'regulation',\n",
       " 'negotiation',\n",
       " 'manufacturing',\n",
       " 'arrangement',\n",
       " 'steel',\n",
       " 'scenario',\n",
       " 'tension',\n",
       " 'indicated',\n",
       " 'existing']"
      ]
     },
     "execution_count": 73,
     "metadata": {},
     "output_type": "execute_result"
    }
   ],
   "source": [
    "word_lst"
   ]
  },
  {
   "cell_type": "code",
   "execution_count": 24,
   "metadata": {},
   "outputs": [
    {
     "name": "stdout",
     "output_type": "stream",
     "text": [
      "2055\n"
     ]
    }
   ],
   "source": [
    "ctr = 0\n",
    "for _ in cleaned:\n",
    "    if 'tariff' in _: ctr += 1\n",
    "print(ctr)"
   ]
  },
  {
   "cell_type": "code",
   "execution_count": 28,
   "metadata": {},
   "outputs": [],
   "source": [
    "tokenizer = RobertaTokenizer.from_pretrained('roberta-base')\n",
    "model = RobertaModel.from_pretrained('roberta-base')\n",
    "input_ids = torch.tensor([tokenizer.encode(\"Here is some text to encode\", add_special_tokens=True)])  # Add special tokens takes care of adding [CLS], [SEP], <s>... tokens in the right way for each model."
   ]
  },
  {
   "cell_type": "code",
   "execution_count": 44,
   "metadata": {},
   "outputs": [],
   "source": [
    "with torch.no_grad():\n",
    "    last_hidden_states = model(input_ids[:,0:2])[0]  # Models outputs are now tuples"
   ]
  },
  {
   "cell_type": "code",
   "execution_count": 39,
   "metadata": {},
   "outputs": [
    {
     "data": {
      "text/plain": [
       "tensor([[0]])"
      ]
     },
     "execution_count": 39,
     "metadata": {},
     "output_type": "execute_result"
    }
   ],
   "source": [
    "input_ids[:,0:1]"
   ]
  },
  {
   "cell_type": "code",
   "execution_count": 45,
   "metadata": {},
   "outputs": [
    {
     "data": {
      "text/plain": [
       "tensor([[[-0.1046,  0.1381, -0.0077,  ..., -0.0909, -0.0252, -0.0395],\n",
       "         [-0.1336, -0.0522,  0.1626,  ...,  0.0487, -0.0357,  0.0916]]])"
      ]
     },
     "execution_count": 45,
     "metadata": {},
     "output_type": "execute_result"
    }
   ],
   "source": [
    "last_hidden_states"
   ]
  },
  {
   "cell_type": "code",
   "execution_count": 26,
   "metadata": {},
   "outputs": [
    {
     "data": {
      "text/plain": [
       "tensor([[[-0.0348,  0.0970, -0.0241,  ..., -0.0371, -0.0467, -0.0317],\n",
       "         [ 0.1924, -0.1015,  0.1191,  ...,  0.3618,  0.0325,  0.1019],\n",
       "         [ 0.3882,  0.1742,  0.2282,  ..., -0.2168,  0.1017,  0.0792],\n",
       "         ...,\n",
       "         [ 0.1169, -0.0478, -0.0710,  ..., -0.0456,  0.0219, -0.0802],\n",
       "         [ 0.0040, -0.0085, -0.0251,  ...,  0.0696,  0.0304, -0.2102],\n",
       "         [-0.0234,  0.0980, -0.0529,  ..., -0.0746, -0.0472, -0.0702]]])"
      ]
     },
     "execution_count": 26,
     "metadata": {},
     "output_type": "execute_result"
    }
   ],
   "source": [
    "last_hidden_states"
   ]
  }
 ],
 "metadata": {
  "kernelspec": {
   "display_name": "Python 3",
   "language": "python",
   "name": "python3"
  },
  "language_info": {
   "codemirror_mode": {
    "name": "ipython",
    "version": 3
   },
   "file_extension": ".py",
   "mimetype": "text/x-python",
   "name": "python",
   "nbconvert_exporter": "python",
   "pygments_lexer": "ipython3",
   "version": "3.7.3"
  }
 },
 "nbformat": 4,
 "nbformat_minor": 2
}
