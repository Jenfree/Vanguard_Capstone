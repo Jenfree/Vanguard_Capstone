{
  "nbformat": 4,
  "nbformat_minor": 0,
  "metadata": {
    "colab": {
      "name": "Vanguard_ARIMAX.ipynb",
      "provenance": []
    },
    "kernelspec": {
      "name": "python3",
      "display_name": "Python 3"
    }
  },
  "cells": [
    {
      "cell_type": "code",
      "metadata": {
        "id": "P3JWaBG1c1Ml",
        "colab_type": "code",
        "outputId": "b815af3c-a97a-4e93-ddb8-11f00dd5eb61",
        "colab": {
          "base_uri": "https://localhost:8080/",
          "height": 377
        }
      },
      "source": [
        "!pip install yfinance"
      ],
      "execution_count": 0,
      "outputs": [
        {
          "output_type": "stream",
          "text": [
            "Collecting yfinance\n",
            "  Downloading https://files.pythonhosted.org/packages/55/86/121a975a2dafa153648674db104f2a12a20bf0a4afad5caec0434b2bba91/yfinance-0.1.52.tar.gz\n",
            "Requirement already satisfied: pandas>=0.24 in /usr/local/lib/python3.6/dist-packages (from yfinance) (0.25.3)\n",
            "Requirement already satisfied: numpy>=1.15 in /usr/local/lib/python3.6/dist-packages (from yfinance) (1.17.4)\n",
            "Requirement already satisfied: requests>=2.20 in /usr/local/lib/python3.6/dist-packages (from yfinance) (2.21.0)\n",
            "Requirement already satisfied: multitasking>=0.0.7 in /usr/local/lib/python3.6/dist-packages (from yfinance) (0.0.9)\n",
            "Requirement already satisfied: python-dateutil>=2.6.1 in /usr/local/lib/python3.6/dist-packages (from pandas>=0.24->yfinance) (2.6.1)\n",
            "Requirement already satisfied: pytz>=2017.2 in /usr/local/lib/python3.6/dist-packages (from pandas>=0.24->yfinance) (2018.9)\n",
            "Requirement already satisfied: urllib3<1.25,>=1.21.1 in /usr/local/lib/python3.6/dist-packages (from requests>=2.20->yfinance) (1.24.3)\n",
            "Requirement already satisfied: certifi>=2017.4.17 in /usr/local/lib/python3.6/dist-packages (from requests>=2.20->yfinance) (2019.11.28)\n",
            "Requirement already satisfied: idna<2.9,>=2.5 in /usr/local/lib/python3.6/dist-packages (from requests>=2.20->yfinance) (2.8)\n",
            "Requirement already satisfied: chardet<3.1.0,>=3.0.2 in /usr/local/lib/python3.6/dist-packages (from requests>=2.20->yfinance) (3.0.4)\n",
            "Requirement already satisfied: six>=1.5 in /usr/local/lib/python3.6/dist-packages (from python-dateutil>=2.6.1->pandas>=0.24->yfinance) (1.12.0)\n",
            "Building wheels for collected packages: yfinance\n",
            "  Building wheel for yfinance (setup.py) ... \u001b[?25l\u001b[?25hdone\n",
            "  Created wheel for yfinance: filename=yfinance-0.1.52-py2.py3-none-any.whl size=21997 sha256=cad8d4636dcaa42e5ad2ba744ef61e2fdaab51e38a9fc347e3fa2f2c2d9e3ac4\n",
            "  Stored in directory: /root/.cache/pip/wheels/1b/9d/ce/929e851fc7d649cd962c177220ad985675785aa97c54df5714\n",
            "Successfully built yfinance\n",
            "Installing collected packages: yfinance\n",
            "Successfully installed yfinance-0.1.52\n"
          ],
          "name": "stdout"
        }
      ]
    },
    {
      "cell_type": "code",
      "metadata": {
        "id": "zLjXBaNVx5zy",
        "colab_type": "code",
        "outputId": "5fb54976-b430-423f-e228-4dd1a50a002d",
        "colab": {
          "base_uri": "https://localhost:8080/",
          "height": 377
        }
      },
      "source": [
        "!pip install pyflux"
      ],
      "execution_count": 0,
      "outputs": [
        {
          "output_type": "stream",
          "text": [
            "Collecting pyflux\n",
            "\u001b[?25l  Downloading https://files.pythonhosted.org/packages/37/e2/ac8ea14d34556e83a9fe9e23ba7b02ca14951849b9637c238ca83d04ac3c/pyflux-0.4.15.tar.gz (1.3MB)\n",
            "\r\u001b[K     |▎                               | 10kB 13.5MB/s eta 0:00:01\r\u001b[K     |▌                               | 20kB 3.3MB/s eta 0:00:01\r\u001b[K     |▊                               | 30kB 4.7MB/s eta 0:00:01\r\u001b[K     |█                               | 40kB 3.1MB/s eta 0:00:01\r\u001b[K     |█▎                              | 51kB 3.7MB/s eta 0:00:01\r\u001b[K     |█▌                              | 61kB 4.4MB/s eta 0:00:01\r\u001b[K     |█▊                              | 71kB 5.1MB/s eta 0:00:01\r\u001b[K     |██                              | 81kB 5.7MB/s eta 0:00:01\r\u001b[K     |██▏                             | 92kB 6.4MB/s eta 0:00:01\r\u001b[K     |██▌                             | 102kB 5.0MB/s eta 0:00:01\r\u001b[K     |██▊                             | 112kB 5.0MB/s eta 0:00:01\r\u001b[K     |███                             | 122kB 5.0MB/s eta 0:00:01\r\u001b[K     |███▏                            | 133kB 5.0MB/s eta 0:00:01\r\u001b[K     |███▌                            | 143kB 5.0MB/s eta 0:00:01\r\u001b[K     |███▊                            | 153kB 5.0MB/s eta 0:00:01\r\u001b[K     |████                            | 163kB 5.0MB/s eta 0:00:01\r\u001b[K     |████▏                           | 174kB 5.0MB/s eta 0:00:01\r\u001b[K     |████▍                           | 184kB 5.0MB/s eta 0:00:01\r\u001b[K     |████▊                           | 194kB 5.0MB/s eta 0:00:01\r\u001b[K     |█████                           | 204kB 5.0MB/s eta 0:00:01\r\u001b[K     |█████▏                          | 215kB 5.0MB/s eta 0:00:01\r\u001b[K     |█████▍                          | 225kB 5.0MB/s eta 0:00:01\r\u001b[K     |█████▊                          | 235kB 5.0MB/s eta 0:00:01\r\u001b[K     |██████                          | 245kB 5.0MB/s eta 0:00:01\r\u001b[K     |██████▏                         | 256kB 5.0MB/s eta 0:00:01\r\u001b[K     |██████▍                         | 266kB 5.0MB/s eta 0:00:01\r\u001b[K     |██████▋                         | 276kB 5.0MB/s eta 0:00:01\r\u001b[K     |███████                         | 286kB 5.0MB/s eta 0:00:01\r\u001b[K     |███████▏                        | 296kB 5.0MB/s eta 0:00:01\r\u001b[K     |███████▍                        | 307kB 5.0MB/s eta 0:00:01\r\u001b[K     |███████▋                        | 317kB 5.0MB/s eta 0:00:01\r\u001b[K     |███████▉                        | 327kB 5.0MB/s eta 0:00:01\r\u001b[K     |████████▏                       | 337kB 5.0MB/s eta 0:00:01\r\u001b[K     |████████▍                       | 348kB 5.0MB/s eta 0:00:01\r\u001b[K     |████████▋                       | 358kB 5.0MB/s eta 0:00:01\r\u001b[K     |████████▉                       | 368kB 5.0MB/s eta 0:00:01\r\u001b[K     |█████████▏                      | 378kB 5.0MB/s eta 0:00:01\r\u001b[K     |█████████▍                      | 389kB 5.0MB/s eta 0:00:01\r\u001b[K     |█████████▋                      | 399kB 5.0MB/s eta 0:00:01\r\u001b[K     |█████████▉                      | 409kB 5.0MB/s eta 0:00:01\r\u001b[K     |██████████                      | 419kB 5.0MB/s eta 0:00:01\r\u001b[K     |██████████▍                     | 430kB 5.0MB/s eta 0:00:01\r\u001b[K     |██████████▋                     | 440kB 5.0MB/s eta 0:00:01\r\u001b[K     |██████████▉                     | 450kB 5.0MB/s eta 0:00:01\r\u001b[K     |███████████                     | 460kB 5.0MB/s eta 0:00:01\r\u001b[K     |███████████▍                    | 471kB 5.0MB/s eta 0:00:01\r\u001b[K     |███████████▋                    | 481kB 5.0MB/s eta 0:00:01\r\u001b[K     |███████████▉                    | 491kB 5.0MB/s eta 0:00:01\r\u001b[K     |████████████                    | 501kB 5.0MB/s eta 0:00:01\r\u001b[K     |████████████▎                   | 512kB 5.0MB/s eta 0:00:01\r\u001b[K     |████████████▋                   | 522kB 5.0MB/s eta 0:00:01\r\u001b[K     |████████████▉                   | 532kB 5.0MB/s eta 0:00:01\r\u001b[K     |█████████████                   | 542kB 5.0MB/s eta 0:00:01\r\u001b[K     |█████████████▎                  | 552kB 5.0MB/s eta 0:00:01\r\u001b[K     |█████████████▋                  | 563kB 5.0MB/s eta 0:00:01\r\u001b[K     |█████████████▉                  | 573kB 5.0MB/s eta 0:00:01\r\u001b[K     |██████████████                  | 583kB 5.0MB/s eta 0:00:01\r\u001b[K     |██████████████▎                 | 593kB 5.0MB/s eta 0:00:01\r\u001b[K     |██████████████▌                 | 604kB 5.0MB/s eta 0:00:01\r\u001b[K     |██████████████▉                 | 614kB 5.0MB/s eta 0:00:01\r\u001b[K     |███████████████                 | 624kB 5.0MB/s eta 0:00:01\r\u001b[K     |███████████████▎                | 634kB 5.0MB/s eta 0:00:01\r\u001b[K     |███████████████▌                | 645kB 5.0MB/s eta 0:00:01\r\u001b[K     |███████████████▊                | 655kB 5.0MB/s eta 0:00:01\r\u001b[K     |████████████████                | 665kB 5.0MB/s eta 0:00:01\r\u001b[K     |████████████████▎               | 675kB 5.0MB/s eta 0:00:01\r\u001b[K     |████████████████▌               | 686kB 5.0MB/s eta 0:00:01\r\u001b[K     |████████████████▊               | 696kB 5.0MB/s eta 0:00:01\r\u001b[K     |█████████████████               | 706kB 5.0MB/s eta 0:00:01\r\u001b[K     |█████████████████▎              | 716kB 5.0MB/s eta 0:00:01\r\u001b[K     |█████████████████▌              | 727kB 5.0MB/s eta 0:00:01\r\u001b[K     |█████████████████▊              | 737kB 5.0MB/s eta 0:00:01\r\u001b[K     |██████████████████              | 747kB 5.0MB/s eta 0:00:01\r\u001b[K     |██████████████████▎             | 757kB 5.0MB/s eta 0:00:01\r\u001b[K     |██████████████████▌             | 768kB 5.0MB/s eta 0:00:01\r\u001b[K     |██████████████████▊             | 778kB 5.0MB/s eta 0:00:01\r\u001b[K     |███████████████████             | 788kB 5.0MB/s eta 0:00:01\r\u001b[K     |███████████████████▎            | 798kB 5.0MB/s eta 0:00:01\r\u001b[K     |███████████████████▌            | 808kB 5.0MB/s eta 0:00:01\r\u001b[K     |███████████████████▊            | 819kB 5.0MB/s eta 0:00:01\r\u001b[K     |████████████████████            | 829kB 5.0MB/s eta 0:00:01\r\u001b[K     |████████████████████▏           | 839kB 5.0MB/s eta 0:00:01\r\u001b[K     |████████████████████▌           | 849kB 5.0MB/s eta 0:00:01\r\u001b[K     |████████████████████▊           | 860kB 5.0MB/s eta 0:00:01\r\u001b[K     |█████████████████████           | 870kB 5.0MB/s eta 0:00:01\r\u001b[K     |█████████████████████▏          | 880kB 5.0MB/s eta 0:00:01\r\u001b[K     |█████████████████████▍          | 890kB 5.0MB/s eta 0:00:01\r\u001b[K     |█████████████████████▊          | 901kB 5.0MB/s eta 0:00:01\r\u001b[K     |██████████████████████          | 911kB 5.0MB/s eta 0:00:01\r\u001b[K     |██████████████████████▏         | 921kB 5.0MB/s eta 0:00:01\r\u001b[K     |██████████████████████▍         | 931kB 5.0MB/s eta 0:00:01\r\u001b[K     |██████████████████████▊         | 942kB 5.0MB/s eta 0:00:01\r\u001b[K     |███████████████████████         | 952kB 5.0MB/s eta 0:00:01\r\u001b[K     |███████████████████████▏        | 962kB 5.0MB/s eta 0:00:01\r\u001b[K     |███████████████████████▍        | 972kB 5.0MB/s eta 0:00:01\r\u001b[K     |███████████████████████▋        | 983kB 5.0MB/s eta 0:00:01\r\u001b[K     |████████████████████████        | 993kB 5.0MB/s eta 0:00:01\r\u001b[K     |████████████████████████▏       | 1.0MB 5.0MB/s eta 0:00:01\r\u001b[K     |████████████████████████▍       | 1.0MB 5.0MB/s eta 0:00:01\r\u001b[K     |████████████████████████▋       | 1.0MB 5.0MB/s eta 0:00:01\r\u001b[K     |█████████████████████████       | 1.0MB 5.0MB/s eta 0:00:01\r\u001b[K     |█████████████████████████▏      | 1.0MB 5.0MB/s eta 0:00:01\r\u001b[K     |█████████████████████████▍      | 1.1MB 5.0MB/s eta 0:00:01\r\u001b[K     |█████████████████████████▋      | 1.1MB 5.0MB/s eta 0:00:01\r\u001b[K     |█████████████████████████▉      | 1.1MB 5.0MB/s eta 0:00:01\r\u001b[K     |██████████████████████████▏     | 1.1MB 5.0MB/s eta 0:00:01\r\u001b[K     |██████████████████████████▍     | 1.1MB 5.0MB/s eta 0:00:01\r\u001b[K     |██████████████████████████▋     | 1.1MB 5.0MB/s eta 0:00:01\r\u001b[K     |██████████████████████████▉     | 1.1MB 5.0MB/s eta 0:00:01\r\u001b[K     |███████████████████████████▏    | 1.1MB 5.0MB/s eta 0:00:01\r\u001b[K     |███████████████████████████▍    | 1.1MB 5.0MB/s eta 0:00:01\r\u001b[K     |███████████████████████████▋    | 1.1MB 5.0MB/s eta 0:00:01\r\u001b[K     |███████████████████████████▉    | 1.2MB 5.0MB/s eta 0:00:01\r\u001b[K     |████████████████████████████    | 1.2MB 5.0MB/s eta 0:00:01\r\u001b[K     |████████████████████████████▍   | 1.2MB 5.0MB/s eta 0:00:01\r\u001b[K     |████████████████████████████▋   | 1.2MB 5.0MB/s eta 0:00:01\r\u001b[K     |████████████████████████████▉   | 1.2MB 5.0MB/s eta 0:00:01\r\u001b[K     |█████████████████████████████   | 1.2MB 5.0MB/s eta 0:00:01\r\u001b[K     |█████████████████████████████▎  | 1.2MB 5.0MB/s eta 0:00:01\r\u001b[K     |█████████████████████████████▋  | 1.2MB 5.0MB/s eta 0:00:01\r\u001b[K     |█████████████████████████████▉  | 1.2MB 5.0MB/s eta 0:00:01\r\u001b[K     |██████████████████████████████  | 1.2MB 5.0MB/s eta 0:00:01\r\u001b[K     |██████████████████████████████▎ | 1.3MB 5.0MB/s eta 0:00:01\r\u001b[K     |██████████████████████████████▋ | 1.3MB 5.0MB/s eta 0:00:01\r\u001b[K     |██████████████████████████████▉ | 1.3MB 5.0MB/s eta 0:00:01\r\u001b[K     |███████████████████████████████ | 1.3MB 5.0MB/s eta 0:00:01\r\u001b[K     |███████████████████████████████▎| 1.3MB 5.0MB/s eta 0:00:01\r\u001b[K     |███████████████████████████████▌| 1.3MB 5.0MB/s eta 0:00:01\r\u001b[K     |███████████████████████████████▉| 1.3MB 5.0MB/s eta 0:00:01\r\u001b[K     |████████████████████████████████| 1.3MB 5.0MB/s \n",
            "\u001b[?25hRequirement already satisfied: numpy in /usr/local/lib/python3.6/dist-packages (from pyflux) (1.17.4)\n",
            "Requirement already satisfied: pandas in /usr/local/lib/python3.6/dist-packages (from pyflux) (0.25.3)\n",
            "Requirement already satisfied: scipy in /usr/local/lib/python3.6/dist-packages (from pyflux) (1.3.3)\n",
            "Collecting numdifftools\n",
            "\u001b[?25l  Downloading https://files.pythonhosted.org/packages/ab/c0/b0d967160ecc8db52ae34e063937d85e8d386f140ad4826aae2086245a5e/numdifftools-0.9.39-py2.py3-none-any.whl (953kB)\n",
            "\u001b[K     |████████████████████████████████| 962kB 42.7MB/s \n",
            "\u001b[?25hRequirement already satisfied: patsy in /usr/local/lib/python3.6/dist-packages (from pyflux) (0.5.1)\n",
            "Requirement already satisfied: pytz>=2017.2 in /usr/local/lib/python3.6/dist-packages (from pandas->pyflux) (2018.9)\n",
            "Requirement already satisfied: python-dateutil>=2.6.1 in /usr/local/lib/python3.6/dist-packages (from pandas->pyflux) (2.6.1)\n",
            "Requirement already satisfied: six in /usr/local/lib/python3.6/dist-packages (from patsy->pyflux) (1.12.0)\n",
            "Building wheels for collected packages: pyflux\n",
            "  Building wheel for pyflux (setup.py) ... \u001b[?25l\u001b[?25hdone\n",
            "  Created wheel for pyflux: filename=pyflux-0.4.15-cp36-cp36m-linux_x86_64.whl size=4656534 sha256=813098032a8a5e5ba24bbbc0125508e79877f388bc9d88bcbe38f2c8ecbf6d20\n",
            "  Stored in directory: /root/.cache/pip/wheels/36/24/09/d18fa4f926cc90598d23ebd09fb4b0fd7b3dd1d2f506b952de\n",
            "Successfully built pyflux\n",
            "Installing collected packages: numdifftools, pyflux\n",
            "Successfully installed numdifftools-0.9.39 pyflux-0.4.15\n"
          ],
          "name": "stdout"
        }
      ]
    },
    {
      "cell_type": "code",
      "metadata": {
        "id": "efSihC6Yc340",
        "colab_type": "code",
        "colab": {}
      },
      "source": [
        "import numpy as np\n",
        "import pandas as pd\n",
        "import pyflux as pf\n",
        "import yfinance as yf\n",
        "from datetime import datetime, timedelta\n",
        "import matplotlib.pyplot as plt\n",
        "from sklearn.metrics import mean_squared_error\n",
        "from sklearn.metrics import mean_absolute_error\n",
        "%matplotlib inline\n"
      ],
      "execution_count": 0,
      "outputs": []
    },
    {
      "cell_type": "code",
      "metadata": {
        "id": "s2F75mblc_DF",
        "colab_type": "code",
        "outputId": "e9a1f72a-68b4-43d1-9cb1-a0ad04fad4ee",
        "colab": {
          "base_uri": "https://localhost:8080/",
          "height": 122
        }
      },
      "source": [
        "# mount google drive\n",
        "from google.colab import drive\n",
        "drive.mount('/content/drive')"
      ],
      "execution_count": 0,
      "outputs": [
        {
          "output_type": "stream",
          "text": [
            "Go to this URL in a browser: https://accounts.google.com/o/oauth2/auth?client_id=947318989803-6bn6qk8qdgf4n4g3pfee6491hc0brc4i.apps.googleusercontent.com&redirect_uri=urn%3aietf%3awg%3aoauth%3a2.0%3aoob&response_type=code&scope=email%20https%3a%2f%2fwww.googleapis.com%2fauth%2fdocs.test%20https%3a%2f%2fwww.googleapis.com%2fauth%2fdrive%20https%3a%2f%2fwww.googleapis.com%2fauth%2fdrive.photos.readonly%20https%3a%2f%2fwww.googleapis.com%2fauth%2fpeopleapi.readonly\n",
            "\n",
            "Enter your authorization code:\n",
            "··········\n",
            "Mounted at /content/drive\n"
          ],
          "name": "stdout"
        }
      ]
    },
    {
      "cell_type": "code",
      "metadata": {
        "id": "vrBNDhDvdA4M",
        "colab_type": "code",
        "outputId": "4fcdcf78-79d7-4a6a-99a6-3c682bc3f4a2",
        "colab": {
          "base_uri": "https://localhost:8080/",
          "height": 34
        }
      },
      "source": [
        "factor_matrix = np.loadtxt('/content/drive/My Drive/factor_mat.csv')\n",
        "factor_matrix = factor_matrix.T\n",
        "factor_matrix.shape"
      ],
      "execution_count": 0,
      "outputs": [
        {
          "output_type": "execute_result",
          "data": {
            "text/plain": [
              "(29325, 77)"
            ]
          },
          "metadata": {
            "tags": []
          },
          "execution_count": 5
        }
      ]
    },
    {
      "cell_type": "code",
      "metadata": {
        "id": "3cCGgcDwdLQ7",
        "colab_type": "code",
        "outputId": "0326ba8c-d334-41b4-987a-f687b0e9dd3c",
        "colab": {
          "base_uri": "https://localhost:8080/",
          "height": 34
        }
      },
      "source": [
        "company = pd.read_csv(\"/content/drive/My Drive/company_table1.csv\")\n",
        "stock_ID = company['stock_ID'].tolist()\n",
        "private_indices = [i for i, x in enumerate(stock_ID) if x == \"private\"]\n",
        "stock_ID = [x for i, x in enumerate(stock_ID) if x != \"private\"]\n",
        "new_factor = np.delete(factor_matrix, private_indices, 1)\n",
        "new_factor.shape"
      ],
      "execution_count": 0,
      "outputs": [
        {
          "output_type": "execute_result",
          "data": {
            "text/plain": [
              "(29325, 69)"
            ]
          },
          "metadata": {
            "tags": []
          },
          "execution_count": 6
        }
      ]
    },
    {
      "cell_type": "code",
      "metadata": {
        "id": "Tc8TeFmpdOFr",
        "colab_type": "code",
        "colab": {}
      },
      "source": [
        "news_guardian_entities = pd.read_csv('/content/drive/My Drive/news_guardian_cuttedentity.csv')\n",
        "df_factor = pd.DataFrame(data=new_factor, index=pd.to_datetime(news_guardian_entities.timestamp).dt.date, columns=stock_ID)"
      ],
      "execution_count": 0,
      "outputs": []
    },
    {
      "cell_type": "code",
      "metadata": {
        "id": "ASFcnJICdWSI",
        "colab_type": "code",
        "colab": {}
      },
      "source": [
        "company = list(df_factor.columns)\n",
        "company.remove('RDS.A')\n",
        "company.remove('[005930]')\n",
        "company.remove('LNKD (2016)')\n",
        "company.remove('4938')"
      ],
      "execution_count": 0,
      "outputs": []
    },
    {
      "cell_type": "code",
      "metadata": {
        "id": "RxZUktilvegi",
        "colab_type": "code",
        "outputId": "a3f171f2-0f8c-483a-c5b2-ac1d45d4a217",
        "colab": {
          "base_uri": "https://localhost:8080/",
          "height": 34
        }
      },
      "source": [
        "company[0]"
      ],
      "execution_count": 0,
      "outputs": [
        {
          "output_type": "execute_result",
          "data": {
            "text/plain": [
              "'EBAY'"
            ]
          },
          "metadata": {
            "tags": []
          },
          "execution_count": 10
        }
      ]
    },
    {
      "cell_type": "code",
      "metadata": {
        "id": "4C3PMVVwBJlF",
        "colab_type": "code",
        "colab": {}
      },
      "source": [
        "arimax_list = []\n",
        "arima_list = []\n",
        "\n",
        "for name in company:\n",
        "  FB_sentiment = df_factor.groupby('timestamp')[name].mean().reset_index()\n",
        "  data = yf.download(name, start=\"2017-09-28\", end=\"2019-10-02\")\n",
        "\n",
        "  count = 0\n",
        "  irow = 0\n",
        "  while irow < data.shape[0] - 1:\n",
        "    next_date = data.iloc[irow,:].name + timedelta(days=1)\n",
        "    if next_date not in data.index:\n",
        "      count += 1\n",
        "      data.loc[next_date] = data.iloc[irow, :]\n",
        "      data = data.sort_index()\n",
        "    irow += 1\n",
        "  data_sorted = data.sort_index()\n",
        "  #create a new column for return \n",
        "  data_sorted.insert(6, 'Return', 1)\n",
        "  for i in range(1, data_sorted.shape[0]):\n",
        "    return_val = data_sorted.iloc[i-1, 4] / data_sorted.iloc[i, 4] - 1\n",
        "    data_sorted.iloc[i, 6] = return_val\n",
        "  data_sorted = data_sorted.iloc[3:, :]\n",
        "  FB_sentiment = FB_sentiment.set_index(\"timestamp\")\n",
        "  final_FB = data_sorted.join(FB_sentiment)\n",
        "  final_FB = final_FB.iloc[:,6:]\n",
        "  final_FB = final_FB.fillna(0)\n",
        "  plt.figure(figsize=(15,5));\n",
        "  plt.plot(final_FB.index, final_FB['Return']);\n",
        "  plt.ylabel('Return');\n",
        "  plt.title('Return for ' + name)\n",
        "  plt.plot();\n",
        "\n",
        "  arima_pred = []\n",
        "  arimax_pred = []\n",
        "\n",
        "  train_size = int(final_FB.shape[0] * 0.80)\n",
        "  test_original = final_FB.iloc[train_size:final_FB.shape[0],:]\n",
        "  test_size = final_FB.shape[0] - train_size\n",
        "  test = final_FB.iloc[train_size:final_FB.shape[0],:]\n",
        "  train = final_FB.iloc[0:train_size,:]\n",
        "  model = pf.ARIMAX(data=final_FB, formula='Return~1',\n",
        "              ar=5, ma=5, integ = 5, family=pf.Normal())\n",
        "  x = model.fit('MLE')\n",
        "  model.plot_fit(figsize=(15,10))\n",
        "  a_pred = model.predict_is(10, False)\n",
        "  \n",
        "  arima_pred = a_pred.values\n",
        "\n",
        "  model_x = pf.ARIMAX(data=final_FB, formula='Return~1+'+name,\n",
        "              ar=5, ma=5, integ = 5, family=pf.Normal())\n",
        "\n",
        "  ax_pred = model_x.predict_is(10, False)\n",
        "  model_x.plot_predict_is(h=10, fit_once = False, figsize=(15,10)) \n",
        "  arimax_pred = ax_pred.values\n",
        "\n",
        "  x = model_x.fit('MLE')\n",
        "  model_x.plot_fit(figsize=(15,10))\n",
        "\n",
        "  MSE = mean_squared_error(train.Return.values[-10:], arima_pred[-10:])\n",
        "  arima_list.append(MSE)\n",
        "  MSE_x = mean_squared_error(train.Return.values[-10:], arimax_pred[-10:])\n",
        "  arimax_list.append(MSE_x)\n",
        "  print('MSE from ARIMA for ', name, ': ', round(MSE, 5))\n",
        "  print('MSE from ARIMAX for ', name, ': ', round(MSE_x, 5))"
      ],
      "execution_count": 0,
      "outputs": []
    },
    {
      "cell_type": "code",
      "metadata": {
        "id": "1I-EZjICelFf",
        "colab_type": "code",
        "colab": {}
      },
      "source": [
        "res = pd.DataFrame({\"ARIMA\":arima_list, \"ARIMAX\":arimax_list}, index = company)"
      ],
      "execution_count": 0,
      "outputs": []
    },
    {
      "cell_type": "code",
      "metadata": {
        "id": "qTGySGqTFixn",
        "colab_type": "code",
        "colab": {}
      },
      "source": [
        "from google.colab import files\n",
        "res.to_csv('ARIMAX.csv')\n",
        "files.download('ARIMAX.csv')"
      ],
      "execution_count": 0,
      "outputs": []
    },
    {
      "cell_type": "code",
      "metadata": {
        "id": "qEc3n6Ypvgka",
        "colab_type": "code",
        "colab": {}
      },
      "source": [
        "finall = res[res['ARIMA']>=res['ARIMAX']]"
      ],
      "execution_count": 0,
      "outputs": []
    },
    {
      "cell_type": "code",
      "metadata": {
        "id": "T-7r3x_iBL_R",
        "colab_type": "code",
        "colab": {}
      },
      "source": [
        "finall.to_csv(\"ARIMAX.csv\")"
      ],
      "execution_count": 0,
      "outputs": []
    }
  ]
}