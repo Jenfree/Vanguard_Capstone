{
  "nbformat": 4,
  "nbformat_minor": 0,
  "metadata": {
    "colab": {
      "name": "Named_Entity_Recognition.ipynb",
      "provenance": [],
      "collapsed_sections": []
    },
    "kernelspec": {
      "name": "python3",
      "display_name": "Python 3"
    }
  },
  "cells": [
    {
      "cell_type": "code",
      "metadata": {
        "id": "FnmSvU7p8aFK",
        "colab_type": "code",
        "colab": {}
      },
      "source": [
        "import pandas as pd"
      ],
      "execution_count": 0,
      "outputs": []
    },
    {
      "cell_type": "code",
      "metadata": {
        "id": "YA4muE-yW-Dn",
        "colab_type": "code",
        "outputId": "c4967d60-cb44-44e3-c7b5-03171c0a977f",
        "colab": {
          "base_uri": "https://localhost:8080/",
          "height": 122
        }
      },
      "source": [
        "# mount google drive\n",
        "from google.colab import drive\n",
        "drive.mount('/content/drive')"
      ],
      "execution_count": 0,
      "outputs": [
        {
          "output_type": "stream",
          "text": [
            "Go to this URL in a browser: https://accounts.google.com/o/oauth2/auth?client_id=947318989803-6bn6qk8qdgf4n4g3pfee6491hc0brc4i.apps.googleusercontent.com&redirect_uri=urn%3Aietf%3Awg%3Aoauth%3A2.0%3Aoob&scope=email%20https%3A%2F%2Fwww.googleapis.com%2Fauth%2Fdocs.test%20https%3A%2F%2Fwww.googleapis.com%2Fauth%2Fdrive%20https%3A%2F%2Fwww.googleapis.com%2Fauth%2Fdrive.photos.readonly%20https%3A%2F%2Fwww.googleapis.com%2Fauth%2Fpeopleapi.readonly&response_type=code\n",
            "\n",
            "Enter your authorization code:\n",
            "··········\n",
            "Mounted at /content/drive\n"
          ],
          "name": "stdout"
        }
      ]
    },
    {
      "cell_type": "code",
      "metadata": {
        "id": "p8rhXZz_8bzJ",
        "colab_type": "code",
        "colab": {}
      },
      "source": [
        "# load news data\n",
        "data = pd.read_csv('/content/drive/My Drive/Capstone Data/news_guardian_sentiment.csv')"
      ],
      "execution_count": 0,
      "outputs": []
    },
    {
      "cell_type": "code",
      "metadata": {
        "id": "WayFLq-QPZh_",
        "colab_type": "code",
        "colab": {}
      },
      "source": [
        "# create a list of companies\n",
        "library = {'Apple', 'Apple Inc.', 'Ford', 'Airbus', 'Boeing', 'Google', 'Google Inc.', 'Huawei', 'Tesco', 'Amazon', 'Tesla', 'Patisserie Holdings', 'the Bank of England', 'Honda', 'Nissan', \n",
        "           'British Gas', 'Toyota', 'BMW', 'Scunthorpe', 'Scottish Power', \"Sainsbury's Energy\", 'Toto', 'Greybull Capital',\n",
        "           'the European Central Bank', 'Morgan Stanley', 'HSBC', 'Nissan', 'Goldman Sachs', 'British Steel', 'Microsoft', 'LinkedIn',\n",
        "           'Facebook', 'Lenovo', 'Netflix', 'eBay', 'Paypal', 'Samsung', 'Alphabet', 'Intel', 'IBM', 'Oracle', 'Alibaba', 'Tencent', 'Cisco', 'SAP',\n",
        "           'NVIDIA', 'Adobe', 'Texas Instruments', 'Broadcom', 'Accenture', 'Salesforce', 'Qualcomm', 'Sony', 'Applied Materials', 'Shell', 'Chevron Corporation',\n",
        "           'BP', 'PetroChina', 'Sinopec', 'Schlumberger', 'Enterprise Products', 'ConocoPhillips', 'EOG Resources', 'Suncor Energy', 'Occidental Petroleum Corporation',\n",
        "           'Kinder Morgan', 'Phillips 66', 'Halliburton', 'BNP Paribas', 'JP Morgan', 'Bank of America', 'Wells Fargo', 'Citigroup', 'American Express',\n",
        "           'Volkswagen', 'General Motors', 'GM', 'Pegatron', 'Fujitsu', 'Mitsubishi', 'Honeywell', 'Caterpillar', 'Hewlett-Packard', 'United Technologies',\n",
        "           'Dell', 'Hitachi', 'General Electric', 'HP', 'PNC', 'Capital One', 'State Farm', 'UBS', 'Siemens', 'Vestas', 'NextEra Energy', 'Oneok',\n",
        "           'Reliance Steel', 'Tenneco', 'Chesapeake Energy', 'Steel Dynamics', 'Williams Cos.', 'Williams Partners', 'Federal-Mogul'}"
      ],
      "execution_count": 0,
      "outputs": []
    },
    {
      "cell_type": "code",
      "metadata": {
        "id": "XlHrYbTdfde4",
        "colab_type": "code",
        "colab": {}
      },
      "source": [
        "new_entities = []"
      ],
      "execution_count": 0,
      "outputs": []
    },
    {
      "cell_type": "code",
      "metadata": {
        "id": "RtHn5wHmxFV2",
        "colab_type": "code",
        "colab": {}
      },
      "source": [
        "# when loading saved data\n",
        "entities = pd.read_csv('/content/entities-5.csv', header=None)\n",
        "entities.fillna(\"\", inplace=True)\n",
        "new_entities = entities[1].values.tolist()"
      ],
      "execution_count": 0,
      "outputs": []
    },
    {
      "cell_type": "code",
      "metadata": {
        "id": "SbpJXNGsr8Ht",
        "colab_type": "code",
        "colab": {}
      },
      "source": [
        "# the first one column will be set to 0 because of loading it to dataframe\n",
        "new_entities = new_entities[1:]"
      ],
      "execution_count": 0,
      "outputs": []
    },
    {
      "cell_type": "code",
      "metadata": {
        "id": "Kt59ihyU_EWS",
        "colab_type": "code",
        "outputId": "e5b4c833-fead-46b3-b96a-f9bee17e67fe",
        "colab": {
          "base_uri": "https://localhost:8080/",
          "height": 34
        }
      },
      "source": [
        "len(new_entities)"
      ],
      "execution_count": 0,
      "outputs": [
        {
          "output_type": "execute_result",
          "data": {
            "text/plain": [
              "225231"
            ]
          },
          "metadata": {
            "tags": []
          },
          "execution_count": 20
        }
      ]
    },
    {
      "cell_type": "code",
      "metadata": {
        "id": "7n4t0rh0sG6z",
        "colab_type": "code",
        "outputId": "4f25eb58-33ab-48e1-a859-59b5aa7756c5",
        "colab": {
          "base_uri": "https://localhost:8080/",
          "height": 204
        }
      },
      "source": [
        "data.info()"
      ],
      "execution_count": 0,
      "outputs": [
        {
          "output_type": "stream",
          "text": [
            "<class 'pandas.core.frame.DataFrame'>\n",
            "RangeIndex: 269823 entries, 0 to 269822\n",
            "Data columns (total 6 columns):\n",
            "Unnamed: 0     269823 non-null int64\n",
            "timestamp      269823 non-null object\n",
            "sectionName    269823 non-null object\n",
            "url            269823 non-null object\n",
            "content        269793 non-null object\n",
            "sentiment      269823 non-null float64\n",
            "dtypes: float64(1), int64(1), object(4)\n",
            "memory usage: 12.4+ MB\n"
          ],
          "name": "stdout"
        }
      ]
    },
    {
      "cell_type": "code",
      "metadata": {
        "id": "DEmpJSfjR22X",
        "colab_type": "code",
        "colab": {}
      },
      "source": [
        "# named entity recognition\n",
        "import spacy\n",
        "import re\n",
        "texts = data.loc[:, 'content']\n",
        "for text in texts:\n",
        "  orgs = \"\"\n",
        "  if not isinstance(text, str):\n",
        "    new_entities.append(orgs)\n",
        "    continue\n",
        "  nlp = spacy.load('en_core_web_sm')\n",
        "  doc = nlp(text)\n",
        "  for entity in doc.ents:\n",
        "    if entity.label_ != 'ORG' or entity.text not in library:\n",
        "      continue\n",
        "    org = re.sub('\\n|Äôs|(|)|–', '', entity.text)\n",
        "    if org == 'Apple Inc.':\n",
        "      org = 'Apple'\n",
        "    if org == 'Google Inc.':\n",
        "      org = 'Google'\n",
        "    orgs = orgs + org + \", \"\n",
        "  new_entities.append(orgs.rstrip(\", \"))"
      ],
      "execution_count": 0,
      "outputs": []
    },
    {
      "cell_type": "code",
      "metadata": {
        "id": "Q_dkejs3MAuH",
        "colab_type": "code",
        "outputId": "a4e082dd-f85f-420e-d963-0190d791fb61",
        "colab": {
          "base_uri": "https://localhost:8080/",
          "height": 34
        }
      },
      "source": [
        "len(new_entities)"
      ],
      "execution_count": 0,
      "outputs": [
        {
          "output_type": "execute_result",
          "data": {
            "text/plain": [
              "269823"
            ]
          },
          "metadata": {
            "tags": []
          },
          "execution_count": 22
        }
      ]
    },
    {
      "cell_type": "code",
      "metadata": {
        "id": "dJ2jBvA4aESC",
        "colab_type": "code",
        "colab": {}
      },
      "source": [
        "# save to csv\n",
        "df = pd.DataFrame(new_entities)\n",
        "df.to_csv('/content/entities.csv')"
      ],
      "execution_count": 0,
      "outputs": []
    },
    {
      "cell_type": "code",
      "metadata": {
        "id": "bjJJPMwfQWSq",
        "colab_type": "code",
        "colab": {}
      },
      "source": [
        "# download\n",
        "from google.colab import files\n",
        "files.download('/content/entities.csv')"
      ],
      "execution_count": 0,
      "outputs": []
    },
    {
      "cell_type": "code",
      "metadata": {
        "id": "JbE0RXiiKgOm",
        "colab_type": "code",
        "colab": {}
      },
      "source": [
        "data['entities'] = new_entities"
      ],
      "execution_count": 0,
      "outputs": []
    },
    {
      "cell_type": "code",
      "metadata": {
        "id": "Fyg8ON2IKkwT",
        "colab_type": "code",
        "colab": {}
      },
      "source": [
        "data.to_csv('/content/drive/My Drive/Capstone Data/news_guardian_entities.csv', header=False, index=False)"
      ],
      "execution_count": 0,
      "outputs": []
    }
  ]
}